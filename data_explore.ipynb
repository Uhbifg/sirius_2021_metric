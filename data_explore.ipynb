{
 "cells": [
  {
   "cell_type": "code",
   "execution_count": 1,
   "metadata": {},
   "outputs": [],
   "source": [
    "import pandas as pd\n",
    "import numpy as np\n",
    "import seaborn as sns\n",
    "from tqdm.notebook import tqdm"
   ]
  },
  {
   "cell_type": "code",
   "execution_count": 26,
   "metadata": {},
   "outputs": [
    {
     "name": "stderr",
     "output_type": "stream",
     "text": [
      "C:\\Users\\Sirius\\anaconda3\\lib\\site-packages\\IPython\\core\\interactiveshell.py:3146: DtypeWarning: Columns (16) have mixed types.Specify dtype option on import or set low_memory=False.\n",
      "  has_raised = await self.run_ast_nodes(code_ast.body, cell_name,\n",
      "C:\\Users\\Sirius\\anaconda3\\lib\\site-packages\\IPython\\core\\interactiveshell.py:3146: DtypeWarning: Columns (18) have mixed types.Specify dtype option on import or set low_memory=False.\n",
      "  has_raised = await self.run_ast_nodes(code_ast.body, cell_name,\n"
     ]
    }
   ],
   "source": [
    "#data_prefix = \"ling_data/\"\n",
    "data_prefix = \"data/\"\n",
    "course = pd.read_csv(data_prefix + \"course.csv\")\n",
    "course_element = pd.read_csv(data_prefix + \"course_element.csv\") \n",
    "course_module = pd.read_csv(data_prefix + \"course_module.csv\") \n",
    "sol_log = pd.read_csv(data_prefix + \"solution_log.csv\") \n",
    "u_course_progress = pd.read_csv(data_prefix + \"user_course_progress.csv\") \n",
    "u_element_progress = pd.read_csv(data_prefix + \"user_element_progress.csv\") \n",
    "u_module_progress = pd.read_csv(data_prefix + \"user_module_progress.csv\")\n",
    "users = pd.read_csv(\"user_ids.csv\")"
   ]
  },
  {
   "cell_type": "markdown",
   "metadata": {},
   "source": [
    "Фичи: \n",
    "course_done - получен ли сертификат 1 уровня\n",
    "progress_current_ratio - доля полученных баллов за курс\n",
    "progress_current - сколько всего баллов полученно \n",
    "total_courses_done - сколько всего закрыл курсов ученик\n",
    "total_tries_overall - сколько попыток сдачи сделал на всех курсах \n",
    "tries_count - сколько попыток сделал ученик на данном курсе\n",
    "task_problems_in_course\ttext_problems_in_course\tvideo_problems_in_course - сколько в курсе соответсвующих задач\n",
    "mean_progress - на сколько баллов люди в среднем прорешивают курс\n",
    "total_participants - сколько всего участников было на курсе\n",
    "advanced_modules_count - сколько в курсе продвинутых модулей (в геометрии 0)\n",
    "transferred_count - сколько задач пользователем перенесено\n",
    "tries_efficiency - кол-во баллов в курсе делить на кол-во попыток в курсе\n",
    "То что еще надо юзать: \n",
    "knowledge_area_id"
   ]
  },
  {
   "cell_type": "code",
   "execution_count": 27,
   "metadata": {},
   "outputs": [],
   "source": [
    "## Удалим тех, у кого не решено ни одного модуля\n",
    "\n",
    "## ids = u_course_progress.groupby(\"user_id\").modules_achieved.sum()\n",
    "## ids = ids[ids > 0]\n",
    "## u_course_progress = u_course_progress[u_course_progress.user_id.isin(ids.index)]\n",
    "ids = users.user_id\n",
    "u_course_progress = u_course_progress[u_course_progress.user_id.isin(ids)]"
   ]
  },
  {
   "cell_type": "code",
   "execution_count": 28,
   "metadata": {},
   "outputs": [],
   "source": [
    "## Посчитаем, сколько в курсе можно заработать максимум баллов\n",
    "course_to_max_points = dict(course_module.groupby(\"course_id\").progress_max.sum())\n",
    "\n",
    "\n",
    "## Подсчитаем, закрыл ли пользователь курс на сертификат первого уровня\n",
    "\n",
    "d = dict(course_module[~course_module.is_advanced & course_module.level == 1].groupby(by=\"course_id\").id.unique().apply(len))\n",
    "u_course_progress[\"course_done\"] = u_course_progress.course_id.map(d) <= u_course_progress.modules_achieved\n",
    "\n",
    "\n",
    "## Подсчитаем по пользователю, сколько баллов он заработал\n",
    "\n",
    "u_course_progress = u_course_progress.merge(u_element_progress.groupby(['user_id', 'course_id']).\\\n",
    "                                            progress_current.sum(), on=['user_id', 'course_id'])\n",
    "\n",
    "## Найдем долю баллов которую получил пользователь от максимального числа баллов\n",
    "\n",
    "u_course_progress[\"progress_current_ratio\"] = u_course_progress.progress_current / u_course_progress.course_id.map(course_to_max_points)\n",
    "\n",
    "\n",
    "## Найдем, сколько всего ученик закрыл курсов\n",
    "\n",
    "u_course_progress[\"total_courses_done\"] = u_course_progress.user_id.map(dict(u_course_progress.groupby(\"user_id\").course_done.sum()))\n",
    "\n",
    "\n",
    "\n",
    "\n",
    "\n",
    "## Найдем, сколько всего попыток сдачи задач, сделал ученик. total_tries_overall - считая все курсы, \n",
    "## total_tries - учитывая только данный курс\n",
    "\n",
    "u_course_progress[\"total_tries_overall\"] = u_course_progress.user_id.map(dict(u_element_progress.groupby(\"user_id\").tries_count.sum()))\n",
    "u_course_progress = u_course_progress.merge( u_element_progress.groupby([\"user_id\", \"course_id\"]) \\\n",
    "                        .tries_count.sum(), on=['user_id', 'course_id'], how = \"left\")\n",
    "\n",
    "\n",
    "\n",
    "\n",
    "\n",
    "## Найдем, сколько в курсе видео / текстовых / задачный элементов\n",
    "\n",
    "course_element[\"course_id\"] = course_element.module_id.map(dict(zip(course_module.id, course_module.course_id)))\n",
    "\n",
    "for name in [\"task\", \"text\", \"video\"]:\n",
    "    u_course_progress[name + \"_problems_in_course\"] = u_course_progress.course_id. \\\n",
    "    map(dict(course_element[course_element.element_type == name].groupby(\"course_id\").id.count()))\n",
    "    \n",
    "    \n",
    "    \n",
    "\n",
    "\n",
    "## Найдем, сколько баллов получают люди за курс в среднем\n",
    "\n",
    "u_course_progress[\"mean_progress\"] = u_course_progress.course_id.map(dict(u_course_progress.groupby(\"course_id\").progress_current_ratio.sum() / u_course_progress.groupby(\"course_id\").progress_current_ratio.count()))\n",
    "\n",
    "\n",
    "## Найдем, сколько всего участников на курсе\n",
    "\n",
    "\n",
    "u_course_progress[\"total_participants\"] = u_course_progress.course_id.map(dict(u_course_progress.groupby(\"course_id\").id.count()))\n",
    "\n",
    "\n",
    "\n",
    "## Найдем, сколько продвинутых модулей на курсе\n",
    "u_course_progress[\"advanced_modules_count\"] = u_course_progress.course_id.map(course_module.groupby(\"course_id\").is_advanced.sum())\n",
    "\n",
    "\n",
    "\n",
    "## Посчитаем, сколько задач каждый пользователь перенес \n",
    "\n",
    "d = u_element_progress[u_element_progress.achieve_reason == \"transferred\"].groupby([\"user_id\", \"course_id\"]).id.count()\n",
    "u_course_progress.merge(d, on=['user_id', 'course_id'], how=\"left\").id_y.fillna(0)\n",
    "u_course_progress.rename(columns={'id_y':'transferred_count'}, inplace=True)\n",
    "\n",
    "\n",
    "## Посчитаем кол-во баллов полученное за курс учеников разделенное на количество попыток в курсе\n",
    "u_course_progress[\"tries_efficiency\"] = u_course_progress.progress_current / u_course_progress.tries_count\n",
    "\n",
    "\n",
    "\n",
    "u_course_progress.to_csv(\"user_course_progress_done.csv\", index=None)\n"
   ]
  },
  {
   "cell_type": "code",
   "execution_count": 30,
   "metadata": {},
   "outputs": [
    {
     "data": {
      "text/plain": [
       "id                            0\n",
       "user_id                       0\n",
       "course_id                     0\n",
       "modules_achieved              0\n",
       "advanced_modules_done         0\n",
       "time_created                262\n",
       "time_updated                537\n",
       "modules_closed                0\n",
       "modules_done                  0\n",
       "course_done                   0\n",
       "progress_current              0\n",
       "progress_current_ratio        0\n",
       "total_courses_done            0\n",
       "total_tries_overall           0\n",
       "tries_count                   0\n",
       "task_problems_in_course       0\n",
       "text_problems_in_course       0\n",
       "video_problems_in_course      0\n",
       "mean_progress                 0\n",
       "total_participants            0\n",
       "advanced_modules_count        0\n",
       "tries_efficiency            805\n",
       "dtype: int64"
      ]
     },
     "execution_count": 30,
     "metadata": {},
     "output_type": "execute_result"
    }
   ],
   "source": [
    "u_course_progress.isnull().sum()"
   ]
  }
 ],
 "metadata": {
  "kernelspec": {
   "display_name": "Python 3",
   "language": "python",
   "name": "python3"
  },
  "language_info": {
   "codemirror_mode": {
    "name": "ipython",
    "version": 3
   },
   "file_extension": ".py",
   "mimetype": "text/x-python",
   "name": "python",
   "nbconvert_exporter": "python",
   "pygments_lexer": "ipython3",
   "version": "3.8.5"
  }
 },
 "nbformat": 4,
 "nbformat_minor": 4
}

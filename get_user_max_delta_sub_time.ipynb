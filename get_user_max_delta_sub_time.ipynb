{
 "cells": [
  {
   "cell_type": "code",
   "execution_count": 1,
   "metadata": {},
   "outputs": [],
   "source": [
    "import pandas as pd"
   ]
  },
  {
   "cell_type": "markdown",
   "metadata": {},
   "source": [
    "### Data"
   ]
  },
  {
   "cell_type": "code",
   "execution_count": 2,
   "metadata": {
    "scrolled": false
   },
   "outputs": [
    {
     "name": "stderr",
     "output_type": "stream",
     "text": [
      "/usr/lib/python3/dist-packages/IPython/core/interactiveshell.py:2718: DtypeWarning: Columns (16) have mixed types.Specify dtype option on import or set low_memory=False.\n",
      "  interactivity=interactivity, compiler=compiler, result=result)\n",
      "/usr/lib/python3/dist-packages/IPython/core/interactiveshell.py:2718: DtypeWarning: Columns (18) have mixed types.Specify dtype option on import or set low_memory=False.\n",
      "  interactivity=interactivity, compiler=compiler, result=result)\n"
     ]
    }
   ],
   "source": [
    "course = pd.read_csv(\"course.csv\") \n",
    "course_element = pd.read_csv(\"course_element.csv\") \n",
    "course_module = pd.read_csv(\"course_module.csv\") \n",
    "sol_log = pd.read_csv(\"solution_log.csv\") \n",
    "u_course_progress = pd.read_csv(\"user_course_progress.csv\") \n",
    "u_element_progress = pd.read_csv(\"user_element_progress.csv\") \n",
    "u_module_progress = pd.read_csv(\"user_module_progress.csv\")"
   ]
  },
  {
   "cell_type": "markdown",
   "metadata": {},
   "source": [
    "### Preprocessing (убираем неактивных юзеров)"
   ]
  },
  {
   "cell_type": "code",
   "execution_count": 3,
   "metadata": {},
   "outputs": [],
   "source": [
    "u_modules_achieved = u_course_progress.groupby('user_id')['modules_achieved'].sum().reset_index()\n",
    "user_id = u_modules_achieved[u_modules_achieved['modules_achieved'] > 0]['user_id']\n",
    "\n",
    "u_course_progress = u_course_progress.merge(user_id, on='user_id')\n",
    "u_module_progress = u_module_progress.merge(user_id, on='user_id')\n",
    "u_element_progress = u_element_progress.merge(user_id, on='user_id')"
   ]
  },
  {
   "cell_type": "code",
   "execution_count": 14,
   "metadata": {},
   "outputs": [
    {
     "data": {
      "text/plain": [
       "0                      1034\n",
       "1                      3971\n",
       "5        100119700110000274\n",
       "6        100119700110000277\n",
       "7        100119700110000283\n",
       "                ...        \n",
       "22885    100120190110548272\n",
       "22886    100120190110550407\n",
       "22892    100120190110590055\n",
       "22893    100120190110592083\n",
       "22895    100120190112111400\n",
       "Name: user_id, Length: 11663, dtype: int64"
      ]
     },
     "execution_count": 14,
     "metadata": {},
     "output_type": "execute_result"
    }
   ],
   "source": [
    "user_id"
   ]
  },
  {
   "cell_type": "markdown",
   "metadata": {},
   "source": [
    "---"
   ]
  },
  {
   "cell_type": "markdown",
   "metadata": {},
   "source": [
    "### user_max_delta_sub_time"
   ]
  },
  {
   "cell_type": "code",
   "execution_count": 15,
   "metadata": {},
   "outputs": [],
   "source": [
    "sub_time = u_element_progress.merge(sol_log, left_on='id', \n",
    "                     right_on='element_progress_id')[['user_id', 'submission_time', 'course_id']]"
   ]
  },
  {
   "cell_type": "code",
   "execution_count": 16,
   "metadata": {
    "scrolled": true
   },
   "outputs": [],
   "source": [
    "sub_time['submission_time'] = pd.to_datetime(sub_time['submission_time'])"
   ]
  },
  {
   "cell_type": "code",
   "execution_count": 17,
   "metadata": {},
   "outputs": [],
   "source": [
    "sub_time.sort_values('submission_time', inplace=True)"
   ]
  },
  {
   "cell_type": "code",
   "execution_count": 19,
   "metadata": {},
   "outputs": [],
   "source": [
    "sub_time['delta'] = sub_time.groupby(['user_id', 'course_id'])['submission_time'].diff()"
   ]
  },
  {
   "cell_type": "code",
   "execution_count": 20,
   "metadata": {},
   "outputs": [],
   "source": [
    "sub_time['delta'] = sub_time['delta'].apply(lambda x: round(x.total_seconds(), 2))"
   ]
  },
  {
   "cell_type": "code",
   "execution_count": 22,
   "metadata": {},
   "outputs": [],
   "source": [
    "u_max_delta_sub_time = sub_time.groupby(['user_id', 'course_id'])['delta'].max().reset_index()"
   ]
  },
  {
   "cell_type": "code",
   "execution_count": 25,
   "metadata": {},
   "outputs": [],
   "source": [
    "u_max_delta_sub_time.to_csv('user_max_delta_sub_time.csv')"
   ]
  },
  {
   "cell_type": "code",
   "execution_count": 23,
   "metadata": {},
   "outputs": [
    {
     "data": {
      "text/html": [
       "<div>\n",
       "<style scoped>\n",
       "    .dataframe tbody tr th:only-of-type {\n",
       "        vertical-align: middle;\n",
       "    }\n",
       "\n",
       "    .dataframe tbody tr th {\n",
       "        vertical-align: top;\n",
       "    }\n",
       "\n",
       "    .dataframe thead th {\n",
       "        text-align: right;\n",
       "    }\n",
       "</style>\n",
       "<table border=\"1\" class=\"dataframe\">\n",
       "  <thead>\n",
       "    <tr style=\"text-align: right;\">\n",
       "      <th></th>\n",
       "      <th>user_id</th>\n",
       "      <th>course_id</th>\n",
       "      <th>delta</th>\n",
       "    </tr>\n",
       "  </thead>\n",
       "  <tbody>\n",
       "    <tr>\n",
       "      <th>0</th>\n",
       "      <td>1034</td>\n",
       "      <td>3</td>\n",
       "      <td>1483061.97</td>\n",
       "    </tr>\n",
       "    <tr>\n",
       "      <th>1</th>\n",
       "      <td>3971</td>\n",
       "      <td>3</td>\n",
       "      <td>4503669.93</td>\n",
       "    </tr>\n",
       "    <tr>\n",
       "      <th>2</th>\n",
       "      <td>100119700110000274</td>\n",
       "      <td>3</td>\n",
       "      <td>5223606.22</td>\n",
       "    </tr>\n",
       "    <tr>\n",
       "      <th>3</th>\n",
       "      <td>100119700110000277</td>\n",
       "      <td>35</td>\n",
       "      <td>1112896.25</td>\n",
       "    </tr>\n",
       "    <tr>\n",
       "      <th>4</th>\n",
       "      <td>100119700110000277</td>\n",
       "      <td>237</td>\n",
       "      <td>5190404.96</td>\n",
       "    </tr>\n",
       "    <tr>\n",
       "      <th>...</th>\n",
       "      <td>...</td>\n",
       "      <td>...</td>\n",
       "      <td>...</td>\n",
       "    </tr>\n",
       "    <tr>\n",
       "      <th>13607</th>\n",
       "      <td>100120190110548272</td>\n",
       "      <td>3</td>\n",
       "      <td>112.89</td>\n",
       "    </tr>\n",
       "    <tr>\n",
       "      <th>13608</th>\n",
       "      <td>100120190110550407</td>\n",
       "      <td>3</td>\n",
       "      <td>2439.57</td>\n",
       "    </tr>\n",
       "    <tr>\n",
       "      <th>13609</th>\n",
       "      <td>100120190110590055</td>\n",
       "      <td>89</td>\n",
       "      <td>4936412.93</td>\n",
       "    </tr>\n",
       "    <tr>\n",
       "      <th>13610</th>\n",
       "      <td>100120190110592083</td>\n",
       "      <td>3</td>\n",
       "      <td>1935783.49</td>\n",
       "    </tr>\n",
       "    <tr>\n",
       "      <th>13611</th>\n",
       "      <td>100120190112111400</td>\n",
       "      <td>3</td>\n",
       "      <td>365.15</td>\n",
       "    </tr>\n",
       "  </tbody>\n",
       "</table>\n",
       "<p>13612 rows × 3 columns</p>\n",
       "</div>"
      ],
      "text/plain": [
       "                  user_id  course_id       delta\n",
       "0                    1034          3  1483061.97\n",
       "1                    3971          3  4503669.93\n",
       "2      100119700110000274          3  5223606.22\n",
       "3      100119700110000277         35  1112896.25\n",
       "4      100119700110000277        237  5190404.96\n",
       "...                   ...        ...         ...\n",
       "13607  100120190110548272          3      112.89\n",
       "13608  100120190110550407          3     2439.57\n",
       "13609  100120190110590055         89  4936412.93\n",
       "13610  100120190110592083          3  1935783.49\n",
       "13611  100120190112111400          3      365.15\n",
       "\n",
       "[13612 rows x 3 columns]"
      ]
     },
     "execution_count": 23,
     "metadata": {},
     "output_type": "execute_result"
    }
   ],
   "source": [
    "u_max_delta_sub_time"
   ]
  },
  {
   "cell_type": "markdown",
   "metadata": {},
   "source": [
    "---"
   ]
  },
  {
   "cell_type": "code",
   "execution_count": null,
   "metadata": {},
   "outputs": [],
   "source": []
  }
 ],
 "metadata": {
  "kernelspec": {
   "display_name": "Python 3",
   "language": "python",
   "name": "python3"
  },
  "language_info": {
   "codemirror_mode": {
    "name": "ipython",
    "version": 3
   },
   "file_extension": ".py",
   "mimetype": "text/x-python",
   "name": "python",
   "nbconvert_exporter": "python",
   "pygments_lexer": "ipython3",
   "version": "3.6.9"
  }
 },
 "nbformat": 4,
 "nbformat_minor": 4
}

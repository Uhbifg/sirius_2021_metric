{
 "cells": [
  {
   "cell_type": "code",
   "execution_count": 1,
   "metadata": {},
   "outputs": [],
   "source": [
    "import pandas as pd\n",
    "import numpy as np \n",
    "from sklearn import linear_model\n",
    "from sklearn import preprocessing\n",
    "pd.set_option('display.max_columns', None)\n"
   ]
  },
  {
   "cell_type": "code",
   "execution_count": 2,
   "metadata": {},
   "outputs": [],
   "source": [
    "data = pd.read_csv(\"learning_data.csv\")"
   ]
  },
  {
   "cell_type": "code",
   "execution_count": 3,
   "metadata": {},
   "outputs": [
    {
     "data": {
      "text/html": [
       "<div>\n",
       "<style scoped>\n",
       "    .dataframe tbody tr th:only-of-type {\n",
       "        vertical-align: middle;\n",
       "    }\n",
       "\n",
       "    .dataframe tbody tr th {\n",
       "        vertical-align: top;\n",
       "    }\n",
       "\n",
       "    .dataframe thead th {\n",
       "        text-align: right;\n",
       "    }\n",
       "</style>\n",
       "<table border=\"1\" class=\"dataframe\">\n",
       "  <thead>\n",
       "    <tr style=\"text-align: right;\">\n",
       "      <th></th>\n",
       "      <th>progress_ratio</th>\n",
       "      <th>theory_achieved</th>\n",
       "      <th>tasks_achieved</th>\n",
       "      <th>days_active</th>\n",
       "      <th>tries_count</th>\n",
       "      <th>score</th>\n",
       "    </tr>\n",
       "  </thead>\n",
       "  <tbody>\n",
       "    <tr>\n",
       "      <th>0</th>\n",
       "      <td>1.000000</td>\n",
       "      <td>0.650000</td>\n",
       "      <td>0.433498</td>\n",
       "      <td>0.571429</td>\n",
       "      <td>0.744864</td>\n",
       "      <td>0.655462</td>\n",
       "    </tr>\n",
       "    <tr>\n",
       "      <th>1</th>\n",
       "      <td>0.099502</td>\n",
       "      <td>0.666667</td>\n",
       "      <td>0.516129</td>\n",
       "      <td>0.071429</td>\n",
       "      <td>0.293735</td>\n",
       "      <td>0.571429</td>\n",
       "    </tr>\n",
       "    <tr>\n",
       "      <th>2</th>\n",
       "      <td>0.960199</td>\n",
       "      <td>0.580000</td>\n",
       "      <td>0.556364</td>\n",
       "      <td>0.428571</td>\n",
       "      <td>0.744864</td>\n",
       "      <td>0.717949</td>\n",
       "    </tr>\n",
       "    <tr>\n",
       "      <th>3</th>\n",
       "      <td>0.064677</td>\n",
       "      <td>0.333333</td>\n",
       "      <td>0.387097</td>\n",
       "      <td>0.071429</td>\n",
       "      <td>0.293735</td>\n",
       "      <td>0.428571</td>\n",
       "    </tr>\n",
       "    <tr>\n",
       "      <th>4</th>\n",
       "      <td>0.472637</td>\n",
       "      <td>0.395833</td>\n",
       "      <td>0.443580</td>\n",
       "      <td>0.214286</td>\n",
       "      <td>0.744864</td>\n",
       "      <td>0.476190</td>\n",
       "    </tr>\n",
       "  </tbody>\n",
       "</table>\n",
       "</div>"
      ],
      "text/plain": [
       "   progress_ratio  theory_achieved  tasks_achieved  days_active  tries_count  \\\n",
       "0        1.000000         0.650000        0.433498     0.571429     0.744864   \n",
       "1        0.099502         0.666667        0.516129     0.071429     0.293735   \n",
       "2        0.960199         0.580000        0.556364     0.428571     0.744864   \n",
       "3        0.064677         0.333333        0.387097     0.071429     0.293735   \n",
       "4        0.472637         0.395833        0.443580     0.214286     0.744864   \n",
       "\n",
       "      score  \n",
       "0  0.655462  \n",
       "1  0.571429  \n",
       "2  0.717949  \n",
       "3  0.428571  \n",
       "4  0.476190  "
      ]
     },
     "execution_count": 3,
     "metadata": {},
     "output_type": "execute_result"
    }
   ],
   "source": [
    "data.head()"
   ]
  },
  {
   "cell_type": "code",
   "execution_count": 4,
   "metadata": {},
   "outputs": [
    {
     "data": {
      "text/plain": [
       "(18125, 6)"
      ]
     },
     "execution_count": 4,
     "metadata": {},
     "output_type": "execute_result"
    }
   ],
   "source": [
    "data.shape"
   ]
  },
  {
   "cell_type": "code",
   "execution_count": 5,
   "metadata": {},
   "outputs": [],
   "source": [
    "from sklearn.model_selection import KFold\n",
    "from sklearn.linear_model import LinearRegression\n",
    "from sklearn.metrics import mean_squared_error,  mean_absolute_error, r2_score"
   ]
  },
  {
   "cell_type": "code",
   "execution_count": 62,
   "metadata": {},
   "outputs": [
    {
     "name": "stdout",
     "output_type": "stream",
     "text": [
      "on test : mse : 0.032737131207776805, mae : 0.1556567947086563, r2 : -0.3031566352227728\n",
      "on train : r2 : 0.26267068388818604\n",
      "Если брать константный ответ как среднее по y_train r2 : -1.47973346950603\n",
      "theory_achieved, w : 0.05020009867747202\n",
      "tasks_achieved, w : 0.3462520721138962\n",
      "days_active, w : 0.41120627870963067\n",
      "encoded_value, w : 0.4829305544869855\n",
      ".............................\n",
      "on test : mse : 0.03970106249066713, mae : 0.1588468728771395, r2 : 0.05496029373680622\n",
      "on train : r2 : 0.3069260201146269\n",
      "Если брать константный ответ как среднее по y_train r2 : -0.365050042770372\n",
      "theory_achieved, w : 0.05721911677996491\n",
      "tasks_achieved, w : 0.36767361691090195\n",
      "days_active, w : 0.4974745658072704\n",
      "encoded_value, w : 0.4412072845286146\n",
      ".............................\n",
      "on test : mse : 0.1274340313405597, mae : 0.26321152395486747, r2 : -0.38999404377300206\n",
      "on train : r2 : 0.27293133016946336\n",
      "Если брать константный ответ как среднее по y_train r2 : -1.0943954174647432\n",
      "theory_achieved, w : 0.061274252633307935\n",
      "tasks_achieved, w : 0.19248654932597936\n",
      "days_active, w : 0.47450211495702965\n",
      "encoded_value, w : 0.4711395520882047\n",
      ".............................\n"
     ]
    }
   ],
   "source": [
    "y = data.progress_ratio.values\n",
    "X = data\n",
    "\n",
    "kf = KFold(n_splits=3, random_state=None, shuffle=False)\n",
    "for train_index, test_index in kf.split(X):\n",
    "    X_train, X_test = X.loc[train_index], X.loc[test_index]\n",
    "    y_train, y_test = y[train_index], y[test_index]\n",
    "    \n",
    "    d = dict(X_train.groupby(\"encoded_value\").progress_ratio.mean())\n",
    "    X_train.drop(columns=[\"progress_ratio\"], inplace=True)\n",
    "    X_test.drop(columns=[\"progress_ratio\"], inplace=True)\n",
    "    X_train.encoded_value = X_train.encoded_value.map(d)\n",
    "    X_test.encoded_value = X_test.encoded_value.map(d)\n",
    "    \n",
    "    model = LinearRegression()\n",
    "    model.fit(X_train, y_train)\n",
    "    y_pred = model.predict(X_test)\n",
    "    y_pred_train = model.predict(X_train)\n",
    "    y_check = y_train.mean()\n",
    "    print(\"on test : mse : {}, mae : {}, r2 : {}\".format(mean_squared_error(y_pred, y_test), mean_absolute_error(y_pred, y_test), model.score(X_test, y_test)))\n",
    "    print(\"on train : r2 : {}\".format(model.score(X_train, y_train)))\n",
    "    print(\"Если брать константный ответ как среднее по y_train r2 : {}\".format(r2_score(y_test, [y_train.mean()] * y_test.shape[0])))\n",
    "    for name, score in dict(zip(data.drop(columns=\"progress_ratio\").columns, model.coef_)).items():\n",
    "        print(\"{}, w : {}\".format(name, score))\n",
    "    print(\".............................\")"
   ]
  },
  {
   "cell_type": "code",
   "execution_count": 6,
   "metadata": {},
   "outputs": [],
   "source": [
    "from sklearn.model_selection import train_test_split"
   ]
  },
  {
   "cell_type": "code",
   "execution_count": 25,
   "metadata": {},
   "outputs": [
    {
     "name": "stdout",
     "output_type": "stream",
     "text": [
      "on test : mse : 0.055309277670405575, mae : 0.17255098263746427, r2 : 0.4344616053987068\n",
      "on train : r2 : 0.42496804187165516\n",
      "theory_achieved, w : -0.09807782114447892\n",
      "tasks_achieved, w : -0.011843400913948088\n",
      "days_active, w : 0.4902844742043161\n",
      "tries_count, w : 0.11012430660755307\n",
      "score, w : 0.601985952843358\n"
     ]
    },
    {
     "name": "stderr",
     "output_type": "stream",
     "text": [
      "C:\\Users\\Sirius\\anaconda3\\lib\\site-packages\\pandas\\core\\frame.py:4163: SettingWithCopyWarning: \n",
      "A value is trying to be set on a copy of a slice from a DataFrame\n",
      "\n",
      "See the caveats in the documentation: https://pandas.pydata.org/pandas-docs/stable/user_guide/indexing.html#returning-a-view-versus-a-copy\n",
      "  return super().drop(\n"
     ]
    }
   ],
   "source": [
    "X_train, X_test, y_train, y_test = train_test_split(data, data.progress_ratio, test_size=0.33, random_state=42)\n",
    "X_train.drop(columns=[\"progress_ratio\"], inplace=True)\n",
    "X_test.drop(columns=[\"progress_ratio\"], inplace=True)\n",
    "model = LinearRegression()\n",
    "model.fit(X_train, y_train)\n",
    "\n",
    "y_pred = model.predict(X_test)\n",
    "y_pred_train = model.predict(X_train)\n",
    "y_check = y_train.mean()\n",
    "\n",
    "\n",
    "\n",
    "print(\"on test : mse : {}, mae : {}, r2 : {}\".format(mean_squared_error(y_pred, y_test), mean_absolute_error(y_pred, y_test), r2_score(y_test, y_pred)))\n",
    "print(\"on train : r2 : {}\".format(r2_score(y_train, y_pred_train)))\n",
    "\n",
    "for name, score in dict(zip(data.drop(columns=\"progress_ratio\").columns, model.coef_)).items():\n",
    "        print(\"{}, w : {}\".format(name, score))\n",
    "        "
   ]
  },
  {
   "cell_type": "code",
   "execution_count": 21,
   "metadata": {},
   "outputs": [],
   "source": [
    "from sklearn.linear_model import BayesianRidge, Ridge, Lasso, ARDRegression, PoissonRegressor, TweedieRegressor, GammaRegressor"
   ]
  },
  {
   "cell_type": "code",
   "execution_count": 14,
   "metadata": {},
   "outputs": [],
   "source": [
    "from catboost import CatBoostRegressor"
   ]
  },
  {
   "cell_type": "code",
   "execution_count": null,
   "metadata": {},
   "outputs": [],
   "source": []
  },
  {
   "cell_type": "code",
   "execution_count": 19,
   "metadata": {},
   "outputs": [
    {
     "name": "stderr",
     "output_type": "stream",
     "text": [
      "C:\\Users\\Sirius\\anaconda3\\lib\\site-packages\\pandas\\core\\frame.py:4163: SettingWithCopyWarning: \n",
      "A value is trying to be set on a copy of a slice from a DataFrame\n",
      "\n",
      "See the caveats in the documentation: https://pandas.pydata.org/pandas-docs/stable/user_guide/indexing.html#returning-a-view-versus-a-copy\n",
      "  return super().drop(\n"
     ]
    },
    {
     "name": "stdout",
     "output_type": "stream",
     "text": [
      "Learning rate set to 0.350276\n",
      "0:\tlearn: 0.2739069\ttotal: 3.16ms\tremaining: 312ms\n",
      "1:\tlearn: 0.2489808\ttotal: 5.79ms\tremaining: 284ms\n",
      "2:\tlearn: 0.2351561\ttotal: 8.45ms\tremaining: 273ms\n",
      "3:\tlearn: 0.2284461\ttotal: 11ms\tremaining: 264ms\n",
      "4:\tlearn: 0.2246372\ttotal: 13.7ms\tremaining: 261ms\n",
      "5:\tlearn: 0.2219932\ttotal: 16.4ms\tremaining: 256ms\n",
      "6:\tlearn: 0.2205414\ttotal: 18.8ms\tremaining: 249ms\n",
      "7:\tlearn: 0.2196281\ttotal: 21.4ms\tremaining: 246ms\n",
      "8:\tlearn: 0.2187251\ttotal: 23.8ms\tremaining: 241ms\n",
      "9:\tlearn: 0.2182473\ttotal: 26.2ms\tremaining: 236ms\n",
      "10:\tlearn: 0.2173107\ttotal: 28.9ms\tremaining: 233ms\n",
      "11:\tlearn: 0.2165750\ttotal: 31.3ms\tremaining: 230ms\n",
      "12:\tlearn: 0.2158884\ttotal: 33.7ms\tremaining: 226ms\n",
      "13:\tlearn: 0.2155816\ttotal: 36.2ms\tremaining: 222ms\n",
      "14:\tlearn: 0.2150963\ttotal: 38.7ms\tremaining: 219ms\n",
      "15:\tlearn: 0.2149031\ttotal: 40.7ms\tremaining: 214ms\n",
      "16:\tlearn: 0.2140288\ttotal: 43.3ms\tremaining: 211ms\n",
      "17:\tlearn: 0.2136037\ttotal: 45.8ms\tremaining: 209ms\n",
      "18:\tlearn: 0.2132700\ttotal: 48.3ms\tremaining: 206ms\n",
      "19:\tlearn: 0.2129023\ttotal: 50.8ms\tremaining: 203ms\n",
      "20:\tlearn: 0.2123944\ttotal: 53.3ms\tremaining: 200ms\n",
      "21:\tlearn: 0.2119014\ttotal: 55.7ms\tremaining: 197ms\n",
      "22:\tlearn: 0.2115002\ttotal: 58.1ms\tremaining: 195ms\n",
      "23:\tlearn: 0.2111024\ttotal: 60.6ms\tremaining: 192ms\n",
      "24:\tlearn: 0.2107896\ttotal: 62.9ms\tremaining: 189ms\n",
      "25:\tlearn: 0.2102150\ttotal: 65.3ms\tremaining: 186ms\n",
      "26:\tlearn: 0.2099100\ttotal: 67.7ms\tremaining: 183ms\n",
      "27:\tlearn: 0.2094300\ttotal: 70.1ms\tremaining: 180ms\n",
      "28:\tlearn: 0.2092213\ttotal: 72.4ms\tremaining: 177ms\n",
      "29:\tlearn: 0.2088675\ttotal: 75.1ms\tremaining: 175ms\n",
      "30:\tlearn: 0.2084644\ttotal: 77.5ms\tremaining: 172ms\n",
      "31:\tlearn: 0.2080542\ttotal: 79.5ms\tremaining: 169ms\n",
      "32:\tlearn: 0.2077119\ttotal: 81.5ms\tremaining: 165ms\n",
      "33:\tlearn: 0.2072319\ttotal: 83.6ms\tremaining: 162ms\n",
      "34:\tlearn: 0.2068805\ttotal: 85.7ms\tremaining: 159ms\n",
      "35:\tlearn: 0.2065364\ttotal: 87.7ms\tremaining: 156ms\n",
      "36:\tlearn: 0.2059324\ttotal: 89.8ms\tremaining: 153ms\n",
      "37:\tlearn: 0.2054631\ttotal: 91.9ms\tremaining: 150ms\n",
      "38:\tlearn: 0.2048779\ttotal: 93.9ms\tremaining: 147ms\n",
      "39:\tlearn: 0.2045828\ttotal: 96ms\tremaining: 144ms\n",
      "40:\tlearn: 0.2045013\ttotal: 98.3ms\tremaining: 141ms\n",
      "41:\tlearn: 0.2042140\ttotal: 100ms\tremaining: 139ms\n",
      "42:\tlearn: 0.2039999\ttotal: 102ms\tremaining: 136ms\n",
      "43:\tlearn: 0.2035599\ttotal: 104ms\tremaining: 133ms\n",
      "44:\tlearn: 0.2031419\ttotal: 107ms\tremaining: 130ms\n",
      "45:\tlearn: 0.2029169\ttotal: 109ms\tremaining: 127ms\n",
      "46:\tlearn: 0.2028017\ttotal: 111ms\tremaining: 125ms\n",
      "47:\tlearn: 0.2024538\ttotal: 113ms\tremaining: 122ms\n",
      "48:\tlearn: 0.2021611\ttotal: 115ms\tremaining: 119ms\n",
      "49:\tlearn: 0.2020129\ttotal: 117ms\tremaining: 117ms\n",
      "50:\tlearn: 0.2017164\ttotal: 119ms\tremaining: 114ms\n",
      "51:\tlearn: 0.2015566\ttotal: 121ms\tremaining: 112ms\n",
      "52:\tlearn: 0.2013597\ttotal: 123ms\tremaining: 109ms\n",
      "53:\tlearn: 0.2010909\ttotal: 125ms\tremaining: 106ms\n",
      "54:\tlearn: 0.2009323\ttotal: 127ms\tremaining: 104ms\n",
      "55:\tlearn: 0.2006111\ttotal: 129ms\tremaining: 101ms\n",
      "56:\tlearn: 0.2002820\ttotal: 131ms\tremaining: 98.9ms\n",
      "57:\tlearn: 0.2000500\ttotal: 133ms\tremaining: 96.4ms\n",
      "58:\tlearn: 0.1998661\ttotal: 135ms\tremaining: 93.8ms\n",
      "59:\tlearn: 0.1997663\ttotal: 137ms\tremaining: 91.3ms\n",
      "60:\tlearn: 0.1995373\ttotal: 139ms\tremaining: 88.9ms\n",
      "61:\tlearn: 0.1991648\ttotal: 141ms\tremaining: 86.5ms\n",
      "62:\tlearn: 0.1990482\ttotal: 143ms\tremaining: 84.2ms\n",
      "63:\tlearn: 0.1987589\ttotal: 145ms\tremaining: 81.7ms\n",
      "64:\tlearn: 0.1985675\ttotal: 147ms\tremaining: 79.3ms\n",
      "65:\tlearn: 0.1982809\ttotal: 149ms\tremaining: 76.9ms\n",
      "66:\tlearn: 0.1981517\ttotal: 151ms\tremaining: 74.5ms\n",
      "67:\tlearn: 0.1979374\ttotal: 153ms\tremaining: 72ms\n",
      "68:\tlearn: 0.1976620\ttotal: 155ms\tremaining: 69.7ms\n",
      "69:\tlearn: 0.1975223\ttotal: 157ms\tremaining: 67.3ms\n",
      "70:\tlearn: 0.1972428\ttotal: 159ms\tremaining: 64.9ms\n",
      "71:\tlearn: 0.1970451\ttotal: 161ms\tremaining: 62.6ms\n",
      "72:\tlearn: 0.1967473\ttotal: 163ms\tremaining: 60.2ms\n",
      "73:\tlearn: 0.1965319\ttotal: 165ms\tremaining: 58.1ms\n",
      "74:\tlearn: 0.1963782\ttotal: 167ms\tremaining: 55.7ms\n",
      "75:\tlearn: 0.1961999\ttotal: 169ms\tremaining: 53.5ms\n",
      "76:\tlearn: 0.1961128\ttotal: 171ms\tremaining: 51.2ms\n",
      "77:\tlearn: 0.1959925\ttotal: 173ms\tremaining: 48.9ms\n",
      "78:\tlearn: 0.1959233\ttotal: 175ms\tremaining: 46.6ms\n",
      "79:\tlearn: 0.1957770\ttotal: 177ms\tremaining: 44.3ms\n",
      "80:\tlearn: 0.1956548\ttotal: 179ms\tremaining: 42ms\n",
      "81:\tlearn: 0.1954817\ttotal: 181ms\tremaining: 39.8ms\n",
      "82:\tlearn: 0.1951801\ttotal: 183ms\tremaining: 37.5ms\n",
      "83:\tlearn: 0.1949282\ttotal: 186ms\tremaining: 35.3ms\n",
      "84:\tlearn: 0.1947646\ttotal: 188ms\tremaining: 33.1ms\n",
      "85:\tlearn: 0.1946844\ttotal: 190ms\tremaining: 30.9ms\n",
      "86:\tlearn: 0.1944264\ttotal: 192ms\tremaining: 28.6ms\n",
      "87:\tlearn: 0.1942721\ttotal: 193ms\tremaining: 26.4ms\n",
      "88:\tlearn: 0.1941017\ttotal: 195ms\tremaining: 24.2ms\n",
      "89:\tlearn: 0.1939553\ttotal: 197ms\tremaining: 21.9ms\n",
      "90:\tlearn: 0.1937376\ttotal: 199ms\tremaining: 19.7ms\n",
      "91:\tlearn: 0.1935292\ttotal: 201ms\tremaining: 17.5ms\n",
      "92:\tlearn: 0.1934235\ttotal: 203ms\tremaining: 15.3ms\n",
      "93:\tlearn: 0.1932082\ttotal: 205ms\tremaining: 13.1ms\n",
      "94:\tlearn: 0.1930905\ttotal: 207ms\tremaining: 10.9ms\n",
      "95:\tlearn: 0.1928828\ttotal: 209ms\tremaining: 8.71ms\n",
      "96:\tlearn: 0.1926484\ttotal: 211ms\tremaining: 6.53ms\n",
      "97:\tlearn: 0.1925752\ttotal: 213ms\tremaining: 4.35ms\n",
      "98:\tlearn: 0.1924470\ttotal: 215ms\tremaining: 2.17ms\n",
      "99:\tlearn: 0.1921999\ttotal: 217ms\tremaining: 0us\n",
      "on test : mse : 0.041241944918314774, mae : 0.12810694548212584, r2 : 0.5783003448656743\n",
      "on train : r2 : 0.6365841476526163\n"
     ]
    }
   ],
   "source": [
    "X_train, X_test, y_train, y_test = train_test_split(data, data.progress_ratio, test_size=0.33, random_state=42)\n",
    "X_train.drop(columns=[\"progress_ratio\"], inplace=True)\n",
    "X_test.drop(columns=[\"progress_ratio\"], inplace=True)\n",
    "model = CatBoostRegressor(iterations=100)\n",
    "model.fit(X_train, y_train)\n",
    "\n",
    "y_pred = model.predict(X_test)\n",
    "y_pred_train = model.predict(X_train)\n",
    "y_check = y_train.mean()\n",
    "\n",
    "\n",
    "\n",
    "print(\"on test : mse : {}, mae : {}, r2 : {}\".format(mean_squared_error(y_pred, y_test), mean_absolute_error(y_pred, y_test), r2_score(y_test, y_pred)))\n",
    "print(\"on train : r2 : {}\".format(r2_score(y_train, y_pred_train)))\n"
   ]
  },
  {
   "cell_type": "code",
   "execution_count": 128,
   "metadata": {},
   "outputs": [
    {
     "data": {
      "text/plain": [
       "<AxesSubplot:>"
      ]
     },
     "execution_count": 128,
     "metadata": {},
     "output_type": "execute_result"
    },
    {
     "data": {
      "image/png": "[encoded data removed]",
      "text/plain": [
       "<Figure size 432x288 with 2 Axes>"
      ]
     },
     "metadata": {
      "needs_background": "light"
     },
     "output_type": "display_data"
    }
   ],
   "source": [
    "sns.heatmap(X_test.corr(), annot=True)"
   ]
  },
  {
   "cell_type": "code",
   "execution_count": 127,
   "metadata": {},
   "outputs": [],
   "source": [
    "import seaborn as sns"
   ]
  },
  {
   "cell_type": "code",
   "execution_count": 249,
   "metadata": {},
   "outputs": [
    {
     "data": {
      "text/plain": [
       "<AxesSubplot:xlabel='progress_current_ratio', ylabel='Count'>"
      ]
     },
     "execution_count": 249,
     "metadata": {},
     "output_type": "execute_result"
    },
    {
     "data": {
      "image/png": "[encoded data removed]",
      "text/plain": [
       "<Figure size 432x288 with 1 Axes>"
      ]
     },
     "metadata": {
      "needs_background": "light"
     },
     "output_type": "display_data"
    }
   ],
   "source": [
    "sns.histplot(data=data, x=name, bins=30)\n",
    "\n",
    "\n",
    "## tries_c"
   ]
  },
  {
   "cell_type": "code",
   "execution_count": 248,
   "metadata": {},
   "outputs": [],
   "source": [
    "points = []\n",
    "name = 'progress_current_ratio'\n",
    "x = 2500\n",
    "for n in range(0, x, 10):\n",
    "    points.append((n, (data[name] < n).sum()))"
   ]
  },
  {
   "cell_type": "code",
   "execution_count": 219,
   "metadata": {},
   "outputs": [
    {
     "name": "stdout",
     "output_type": "stream",
     "text": [
      "max 18462.0, % lost : 1.210954480531578\n"
     ]
    },
    {
     "data": {
      "image/png": "[encoded data removed]",
      "text/plain": [
       "<Figure size 432x288 with 1 Axes>"
      ]
     },
     "metadata": {
      "needs_background": "light"
     },
     "output_type": "display_data"
    }
   ],
   "source": [
    "sns.lineplot(x = [i[0] for i in points], y = [i[1] for i in points]).set(title=name)\n",
    "print(\"max {}, % lost : {}\".format(data[name].max(), (data[name] > x).sum() / data.shape[0] * 100))"
   ]
  },
  {
   "cell_type": "code",
   "execution_count": 192,
   "metadata": {},
   "outputs": [
    {
     "data": {
      "text/plain": [
       "4.6575172328137615"
      ]
     },
     "execution_count": 192,
     "metadata": {},
     "output_type": "execute_result"
    }
   ],
   "source": []
  },
  {
   "cell_type": "code",
   "execution_count": 150,
   "metadata": {},
   "outputs": [
    {
     "data": {
      "text/plain": [
       "14760"
      ]
     },
     "execution_count": 150,
     "metadata": {},
     "output_type": "execute_result"
    }
   ],
   "source": [
    "(data.tries_count < 600).sum()"
   ]
  },
  {
   "cell_type": "code",
   "execution_count": 140,
   "metadata": {},
   "outputs": [
    {
     "data": {
      "text/plain": [
       "18035.0"
      ]
     },
     "execution_count": 140,
     "metadata": {},
     "output_type": "execute_result"
    }
   ],
   "source": [
    "data.tries_count.max()"
   ]
  },
  {
   "cell_type": "code",
   "execution_count": null,
   "metadata": {},
   "outputs": [],
   "source": []
  }
 ],
 "metadata": {
  "kernelspec": {
   "display_name": "Python 3",
   "language": "python",
   "name": "python3"
  },
  "language_info": {
   "codemirror_mode": {
    "name": "ipython",
    "version": 3
   },
   "file_extension": ".py",
   "mimetype": "text/x-python",
   "name": "python",
   "nbconvert_exporter": "python",
   "pygments_lexer": "ipython3",
   "version": "3.8.5"
  }
 },
 "nbformat": 4,
 "nbformat_minor": 4
}

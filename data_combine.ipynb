{
 "cells": [
  {
   "cell_type": "code",
   "execution_count": 17,
   "metadata": {},
   "outputs": [],
   "source": [
    "import os\n",
    "import pandas as pd \n",
    "\n",
    "result = pd.read_csv(\"user_course_ids.csv\")\n",
    "combine_dir = \"to_combine\"\n",
    "\n",
    "for name in os.listdir(combine_dir):\n",
    "    temp = pd.read_csv(combine_dir + \"/\" + name)\n",
    "    result = result.merge(temp, on=[\"user_id\", \"course_id\"])\n",
    "to_drop = [col for col in result.columns if \"Unnamed\" in col or \"_y\" in col]\n",
    "result.drop(columns=to_drop, inplace=True)\n",
    "result.columns = [col if \"_x\" not in col else col[:-2] for col in result.columns]\n",
    "\n",
    "result.to_csv(\"data.csv\", index=None)"
   ]
  }
 ],
 "metadata": {
  "kernelspec": {
   "display_name": "Python 3",
   "language": "python",
   "name": "python3"
  },
  "language_info": {
   "codemirror_mode": {
    "name": "ipython",
    "version": 3
   },
   "file_extension": ".py",
   "mimetype": "text/x-python",
   "name": "python",
   "nbconvert_exporter": "python",
   "pygments_lexer": "ipython3",
   "version": "3.8.5"
  }
 },
 "nbformat": 4,
 "nbformat_minor": 4
}
